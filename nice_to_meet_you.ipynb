{
 "cells": [
  {
   "cell_type": "code",
   "execution_count": 1,
   "metadata": {
    "collapsed": true
   },
   "outputs": [],
   "source": [
    "import pandas as pd"
   ]
  },
  {
   "cell_type": "code",
   "execution_count": 2,
   "metadata": {
    "collapsed": false
   },
   "outputs": [],
   "source": [
    "dataset = pd.read_csv('nicetomeetyou.csv')"
   ]
  },
  {
   "cell_type": "code",
   "execution_count": 3,
   "metadata": {
    "collapsed": false
   },
   "outputs": [
    {
     "data": {
      "text/html": [
       "<div>\n",
       "<table border=\"1\" class=\"dataframe\">\n",
       "  <thead>\n",
       "    <tr style=\"text-align: right;\">\n",
       "      <th></th>\n",
       "      <th>ID</th>\n",
       "      <th>First_Name</th>\n",
       "      <th>Last_Name</th>\n",
       "      <th>City</th>\n",
       "      <th>State</th>\n",
       "      <th>Zip</th>\n",
       "      <th>YearsMember</th>\n",
       "      <th>Party</th>\n",
       "      <th>Age</th>\n",
       "      <th>Atttended a Meeting</th>\n",
       "      <th>PAC Contributer</th>\n",
       "    </tr>\n",
       "  </thead>\n",
       "  <tbody>\n",
       "    <tr>\n",
       "      <th>0</th>\n",
       "      <td>4532</td>\n",
       "      <td>Sam</td>\n",
       "      <td>Smith</td>\n",
       "      <td>Washington</td>\n",
       "      <td>DC</td>\n",
       "      <td>20001</td>\n",
       "      <td>1</td>\n",
       "      <td>D</td>\n",
       "      <td>23</td>\n",
       "      <td>Y</td>\n",
       "      <td>Y</td>\n",
       "    </tr>\n",
       "    <tr>\n",
       "      <th>1</th>\n",
       "      <td>23456</td>\n",
       "      <td>Tony</td>\n",
       "      <td>Tegan</td>\n",
       "      <td>Washington</td>\n",
       "      <td>DC</td>\n",
       "      <td>20001</td>\n",
       "      <td>1</td>\n",
       "      <td>R</td>\n",
       "      <td>24</td>\n",
       "      <td>N</td>\n",
       "      <td>N</td>\n",
       "    </tr>\n",
       "    <tr>\n",
       "      <th>2</th>\n",
       "      <td>235636</td>\n",
       "      <td>Erick</td>\n",
       "      <td>Jones</td>\n",
       "      <td>Washington</td>\n",
       "      <td>DC</td>\n",
       "      <td>20002</td>\n",
       "      <td>2</td>\n",
       "      <td>D</td>\n",
       "      <td>43</td>\n",
       "      <td>N</td>\n",
       "      <td>N</td>\n",
       "    </tr>\n",
       "    <tr>\n",
       "      <th>3</th>\n",
       "      <td>354346</td>\n",
       "      <td>Blake</td>\n",
       "      <td>Martin</td>\n",
       "      <td>Washington</td>\n",
       "      <td>DC</td>\n",
       "      <td>20002</td>\n",
       "      <td>30</td>\n",
       "      <td>D</td>\n",
       "      <td>65</td>\n",
       "      <td>N</td>\n",
       "      <td>Y</td>\n",
       "    </tr>\n",
       "    <tr>\n",
       "      <th>4</th>\n",
       "      <td>123453</td>\n",
       "      <td>Pat</td>\n",
       "      <td>Vogel</td>\n",
       "      <td>Washington</td>\n",
       "      <td>DC</td>\n",
       "      <td>20003</td>\n",
       "      <td>30</td>\n",
       "      <td>D</td>\n",
       "      <td>79</td>\n",
       "      <td>N</td>\n",
       "      <td>Y</td>\n",
       "    </tr>\n",
       "  </tbody>\n",
       "</table>\n",
       "</div>"
      ],
      "text/plain": [
       "      ID  First_Name Last_Name        City State    Zip  YearsMember Party  \\\n",
       "0    4532        Sam    Smith   Washington    DC  20001            1     D   \n",
       "1   23456       Tony    Tegan   Washington    DC  20001            1     R   \n",
       "2  235636      Erick     Jones  Washington    DC  20002            2     D   \n",
       "3  354346      Blake   Martin   Washington    DC  20002           30     D   \n",
       "4  123453        Pat     Vogel  Washington    DC  20003           30     D   \n",
       "\n",
       "   Age Atttended a Meeting  PAC Contributer  \n",
       "0   23                    Y               Y  \n",
       "1   24                    N               N  \n",
       "2   43                    N               N  \n",
       "3   65                    N               Y  \n",
       "4   79                    N               Y  "
      ]
     },
     "execution_count": 3,
     "metadata": {},
     "output_type": "execute_result"
    }
   ],
   "source": [
    "dataset.head()"
   ]
  },
  {
   "cell_type": "code",
   "execution_count": 5,
   "metadata": {
    "collapsed": false
   },
   "outputs": [
    {
     "data": {
      "text/plain": [
       "(11, 11)"
      ]
     },
     "execution_count": 5,
     "metadata": {},
     "output_type": "execute_result"
    }
   ],
   "source": [
    "dataset.shape"
   ]
  },
  {
   "cell_type": "code",
   "execution_count": 4,
   "metadata": {
    "collapsed": false
   },
   "outputs": [
    {
     "name": "stdout",
     "output_type": "stream",
     "text": [
      "<class 'pandas.core.frame.DataFrame'>\n",
      "Int64Index: 11 entries, 0 to 10\n",
      "Data columns (total 11 columns):\n",
      "ID                      11 non-null int64\n",
      "First_Name              11 non-null object\n",
      "Last_Name               11 non-null object\n",
      "City                    11 non-null object\n",
      "State                   11 non-null object\n",
      "Zip                     11 non-null int64\n",
      "YearsMember             11 non-null int64\n",
      "Party                   11 non-null object\n",
      "Age                     11 non-null int64\n",
      "Atttended a Meeting     11 non-null object\n",
      "PAC Contributer         11 non-null object\n",
      "dtypes: int64(4), object(7)\n",
      "memory usage: 1.0+ KB\n"
     ]
    }
   ],
   "source": [
    "dataset.info()"
   ]
  },
  {
   "cell_type": "code",
   "execution_count": 5,
   "metadata": {
    "collapsed": false
   },
   "outputs": [
    {
     "data": {
      "text/html": [
       "<div>\n",
       "<table border=\"1\" class=\"dataframe\">\n",
       "  <thead>\n",
       "    <tr style=\"text-align: right;\">\n",
       "      <th></th>\n",
       "      <th>ID</th>\n",
       "      <th>Zip</th>\n",
       "      <th>YearsMember</th>\n",
       "      <th>Age</th>\n",
       "    </tr>\n",
       "  </thead>\n",
       "  <tbody>\n",
       "    <tr>\n",
       "      <th>count</th>\n",
       "      <td>11.000000</td>\n",
       "      <td>11.000000</td>\n",
       "      <td>11.0</td>\n",
       "      <td>11.000000</td>\n",
       "    </tr>\n",
       "    <tr>\n",
       "      <th>mean</th>\n",
       "      <td>134738.181818</td>\n",
       "      <td>20003.545455</td>\n",
       "      <td>9.0</td>\n",
       "      <td>43.636364</td>\n",
       "    </tr>\n",
       "    <tr>\n",
       "      <th>std</th>\n",
       "      <td>94147.383747</td>\n",
       "      <td>2.339386</td>\n",
       "      <td>11.0</td>\n",
       "      <td>18.784423</td>\n",
       "    </tr>\n",
       "    <tr>\n",
       "      <th>min</th>\n",
       "      <td>4532.000000</td>\n",
       "      <td>20001.000000</td>\n",
       "      <td>0.0</td>\n",
       "      <td>22.000000</td>\n",
       "    </tr>\n",
       "    <tr>\n",
       "      <th>25%</th>\n",
       "      <td>123447.500000</td>\n",
       "      <td>20002.000000</td>\n",
       "      <td>1.5</td>\n",
       "      <td>27.000000</td>\n",
       "    </tr>\n",
       "    <tr>\n",
       "      <th>50%</th>\n",
       "      <td>123450.000000</td>\n",
       "      <td>20003.000000</td>\n",
       "      <td>5.0</td>\n",
       "      <td>43.000000</td>\n",
       "    </tr>\n",
       "    <tr>\n",
       "      <th>75%</th>\n",
       "      <td>123452.500000</td>\n",
       "      <td>20005.000000</td>\n",
       "      <td>10.5</td>\n",
       "      <td>54.500000</td>\n",
       "    </tr>\n",
       "    <tr>\n",
       "      <th>max</th>\n",
       "      <td>354346.000000</td>\n",
       "      <td>20009.000000</td>\n",
       "      <td>30.0</td>\n",
       "      <td>79.000000</td>\n",
       "    </tr>\n",
       "  </tbody>\n",
       "</table>\n",
       "</div>"
      ],
      "text/plain": [
       "                 ID            Zip  YearsMember        Age\n",
       "count      11.000000     11.000000         11.0  11.000000\n",
       "mean   134738.181818  20003.545455          9.0  43.636364\n",
       "std     94147.383747      2.339386         11.0  18.784423\n",
       "min      4532.000000  20001.000000          0.0  22.000000\n",
       "25%    123447.500000  20002.000000          1.5  27.000000\n",
       "50%    123450.000000  20003.000000          5.0  43.000000\n",
       "75%    123452.500000  20005.000000         10.5  54.500000\n",
       "max    354346.000000  20009.000000         30.0  79.000000"
      ]
     },
     "execution_count": 5,
     "metadata": {},
     "output_type": "execute_result"
    }
   ],
   "source": [
    "dataset.describe()"
   ]
  },
  {
   "cell_type": "code",
   "execution_count": 6,
   "metadata": {
    "collapsed": false
   },
   "outputs": [
    {
     "data": {
      "text/plain": [
       "43.0"
      ]
     },
     "execution_count": 6,
     "metadata": {},
     "output_type": "execute_result"
    }
   ],
   "source": [
    "#What's the median age of our dataset?\n",
    "dataset['Age'].median()"
   ]
  },
  {
   "cell_type": "code",
   "execution_count": 7,
   "metadata": {
    "collapsed": false
   },
   "outputs": [
    {
     "data": {
      "text/plain": [
       "2     43\n",
       "3     65\n",
       "4     79\n",
       "5     30\n",
       "6     53\n",
       "7     35\n",
       "8     22\n",
       "9     56\n",
       "10    50\n",
       "Name: Age, dtype: int64"
      ]
     },
     "execution_count": 7,
     "metadata": {},
     "output_type": "execute_result"
    }
   ],
   "source": [
    "#filtering\n",
    "dataset['Age'][2:]"
   ]
  },
  {
   "cell_type": "code",
   "execution_count": null,
   "metadata": {
    "collapsed": true
   },
   "outputs": [],
   "source": []
  }
 ],
 "metadata": {
  "kernelspec": {
   "display_name": "Python 2",
   "language": "python",
   "name": "python2"
  },
  "language_info": {
   "codemirror_mode": {
    "name": "ipython",
    "version": 2
   },
   "file_extension": ".py",
   "mimetype": "text/x-python",
   "name": "python",
   "nbconvert_exporter": "python",
   "pygments_lexer": "ipython2",
   "version": "2.7.10"
  }
 },
 "nbformat": 4,
 "nbformat_minor": 0
}
